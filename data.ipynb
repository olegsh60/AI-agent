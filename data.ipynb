{
 "cells": [
  {
   "cell_type": "markdown",
   "id": "c6c4a56a",
   "metadata": {},
   "source": [
    "### 🔹 Импортируются три ключевые библиотеки:  \n",
    "\t•\tnumpy — для числовых вычислений;  \n",
    "\t•\tpandas — для табличной обработки данных;  \n",
    "\t•\tdatasets из Hugging Face — позволяет загружать готовые датасеты.  "
   ]
  },
  {
   "cell_type": "code",
   "execution_count": 1,
   "id": "9829b24d",
   "metadata": {},
   "outputs": [
    {
     "name": "stderr",
     "output_type": "stream",
     "text": [
      "/Library/Frameworks/Python.framework/Versions/3.11/lib/python3.11/site-packages/tqdm/auto.py:21: TqdmWarning: IProgress not found. Please update jupyter and ipywidgets. See https://ipywidgets.readthedocs.io/en/stable/user_install.html\n",
      "  from .autonotebook import tqdm as notebook_tqdm\n"
     ]
    }
   ],
   "source": [
    "# 📦 Импорт необходимых библиотек\n",
    "import numpy as np\n",
    "import pandas as pd\n",
    "from datasets import load_dataset"
   ]
  },
  {
   "cell_type": "markdown",
   "id": "049d01ae",
   "metadata": {},
   "source": [
    "### 🔹 Загружается датасет emotion — это датасет текстов с метками эмоций (joy, anger, fear, и т.д.) с помощью Hugging Face."
   ]
  },
  {
   "cell_type": "code",
   "execution_count": 2,
   "id": "3b25cb66",
   "metadata": {},
   "outputs": [
    {
     "name": "stderr",
     "output_type": "stream",
     "text": [
      "Downloading readme: 100%|██████████| 9.05k/9.05k [00:00<00:00, 3.22MB/s]\n",
      "Downloading data: 100%|██████████| 1.03M/1.03M [00:00<00:00, 1.36MB/s]\n",
      "Downloading data: 100%|██████████| 127k/127k [00:00<00:00, 558kB/s]t]\n",
      "Downloading data: 100%|██████████| 129k/129k [00:00<00:00, 541kB/s]s]\n",
      "Downloading data files: 100%|██████████| 3/3 [00:02<00:00,  1.29it/s]\n",
      "Extracting data files: 100%|██████████| 3/3 [00:00<00:00, 857.38it/s]\n",
      "Generating train split: 100%|██████████| 16000/16000 [00:00<00:00, 979691.45 examples/s]\n",
      "Generating validation split: 100%|██████████| 2000/2000 [00:00<00:00, 848534.09 examples/s]\n",
      "Generating test split: 100%|██████████| 2000/2000 [00:00<00:00, 665551.25 examples/s]\n"
     ]
    }
   ],
   "source": [
    "# 📚 Загрузка открытого датасета (пример: emotion классификация)\n",
    "dataset = load_dataset(\"dair-ai/emotion\")"
   ]
  },
  {
   "cell_type": "markdown",
   "id": "e4c56971",
   "metadata": {},
   "source": [
    "### 🔹 Печатается первая строка обучающего набора (train), чтобы увидеть, как устроены записи — обычно это словарь с полями text и label."
   ]
  },
  {
   "cell_type": "code",
   "execution_count": 3,
   "id": "9ddc378e",
   "metadata": {},
   "outputs": [
    {
     "name": "stdout",
     "output_type": "stream",
     "text": [
      "Пример строки из датасета:\n",
      "{'text': 'i didnt feel humiliated', 'label': 0}\n"
     ]
    }
   ],
   "source": [
    "# 👁️ Быстрый взгляд на структуру train-набора\n",
    "print(\"Пример строки из датасета:\")\n",
    "print(dataset['train'][0])"
   ]
  },
  {
   "cell_type": "markdown",
   "id": "140bc6f4",
   "metadata": {},
   "source": [
    "### 🔹 Преобразуем HuggingFace Dataset в pandas.DataFrame — так проще анализировать и обрабатывать данные таблично."
   ]
  },
  {
   "cell_type": "code",
   "execution_count": 4,
   "id": "f92d82d0",
   "metadata": {},
   "outputs": [],
   "source": [
    "# 🔄 Преобразование HuggingFace Dataset в DataFrame для удобной работы\n",
    "df = dataset['train'].to_pandas()"
   ]
  },
  {
   "cell_type": "markdown",
   "id": "386b6950",
   "metadata": {},
   "source": [
    "### 🔹 Считаем, сколько записей приходится на каждый класс (эмоцию). Это важно для анализа сбалансированности выборки."
   ]
  },
  {
   "cell_type": "code",
   "execution_count": 5,
   "id": "59844247",
   "metadata": {},
   "outputs": [
    {
     "name": "stdout",
     "output_type": "stream",
     "text": [
      "\n",
      "Распределение по классам эмоций:\n",
      "label\n",
      "1    5362\n",
      "0    4666\n",
      "3    2159\n",
      "4    1937\n",
      "2    1304\n",
      "5     572\n",
      "Name: count, dtype: int64\n"
     ]
    }
   ],
   "source": [
    "# 📊 Анализ распределения классов\n",
    "print(\"\\nРаспределение по классам эмоций:\")\n",
    "print(df['label'].value_counts())"
   ]
  },
  {
   "cell_type": "markdown",
   "id": "414302f0",
   "metadata": {},
   "source": [
    "### 🔹 Метки в датасете закодированы как числа. Здесь мы получаем список названий классов и заменяем числа на текст (например, 2 → joy)."
   ]
  },
  {
   "cell_type": "code",
   "execution_count": 6,
   "id": "0d33fa16",
   "metadata": {},
   "outputs": [],
   "source": [
    "# 🔄 Преобразование числовых меток в текстовые (сопоставим с оригинальными)\n",
    "label_names = dataset['train'].features['label'].names\n",
    "df['emotion'] = df['label'].apply(lambda x: label_names[x])"
   ]
  },
  {
   "cell_type": "markdown",
   "id": "1aee7a5b",
   "metadata": {},
   "source": [
    "### 🔹 Текст приводится к нижнему регистру и очищается от пунктуации и спецсимволов с помощью регулярного выражения."
   ]
  },
  {
   "cell_type": "code",
   "execution_count": 7,
   "id": "09a301b7",
   "metadata": {},
   "outputs": [],
   "source": [
    "# 🧹 Пример простой очистки текста\n",
    "df['clean_text'] = df['text'].str.lower().str.replace(r\"[^\\w\\s]\", \"\", regex=True)"
   ]
  },
  {
   "cell_type": "markdown",
   "id": "61bb910f",
   "metadata": {},
   "source": [
    "### 🔹 Создаются новые признаки:\n",
    "\t•\ttext_length — количество слов в тексте;\n",
    "\t•\tchar_count — количество символов;\n",
    "\t•\tavg_word_len — средняя длина слова.\n",
    "Добавляется маленькое значение 1e-5, чтобы избежать деления на ноль."
   ]
  },
  {
   "cell_type": "code",
   "execution_count": 8,
   "id": "ac99dbb6",
   "metadata": {},
   "outputs": [],
   "source": [
    "# ➕ Создание числовых признаков с помощью NumPy\n",
    "df['text_length'] = df['clean_text'].apply(lambda x: len(x.split()))\n",
    "df['char_count'] = df['clean_text'].apply(len)\n",
    "df['avg_word_len'] = df['char_count'] / (df['text_length'] + 1e-5)"
   ]
  },
  {
   "cell_type": "markdown",
   "id": "347499fc",
   "metadata": {},
   "source": [
    "### 🔹 Группируем данные по эмоциям и считаем среднюю длину текста. Это помогает понять особенности данных по каждой категории."
   ]
  },
  {
   "cell_type": "code",
   "execution_count": 9,
   "id": "1aec2e5e",
   "metadata": {},
   "outputs": [
    {
     "name": "stdout",
     "output_type": "stream",
     "text": [
      "\n",
      "Средняя длина текста по эмоциям:\n",
      "emotion\n",
      "anger       19.229736\n",
      "fear        18.844605\n",
      "joy         19.498135\n",
      "love        20.700153\n",
      "sadness     18.361980\n",
      "surprise    19.970280\n",
      "Name: text_length, dtype: float64\n"
     ]
    }
   ],
   "source": [
    "# 🧠 Пример базового анализа\n",
    "print(\"\\nСредняя длина текста по эмоциям:\")\n",
    "print(df.groupby(\"emotion\")['text_length'].mean())"
   ]
  },
  {
   "cell_type": "markdown",
   "id": "6fe86409",
   "metadata": {},
   "source": [
    "### 🔹 Фильтруются записи, где текст состоит менее чем из 5 слов — может быть полезно для последующей очистки или анализа аномалий."
   ]
  },
  {
   "cell_type": "code",
   "execution_count": 10,
   "id": "a3da850d",
   "metadata": {},
   "outputs": [
    {
     "name": "stdout",
     "output_type": "stream",
     "text": [
      "\n",
      "Количество коротких текстов (<5 слов): 363\n"
     ]
    }
   ],
   "source": [
    "# ✅ Пример выборки с фильтрацией\n",
    "short_texts = df[df['text_length'] < 5]\n",
    "print(f\"\\nКоличество коротких текстов (<5 слов): {len(short_texts)}\")"
   ]
  },
  {
   "cell_type": "markdown",
   "id": "92aaa017",
   "metadata": {},
   "source": [
    "### 💡 Итого:\n",
    "Этот код — базовый, но эффективный пример обработки текстовых данных и подготовки к обучению или анализу. Он демонстрирует:\n",
    "\t•\tРаботу с реальными датасетами\n",
    "\t•\tВладение библиотеками pandas, datasets, numpy\n",
    "\t•\tПрименение простых методов EDA (Exploratory Data Analysis)"
   ]
  }
 ],
 "metadata": {
  "kernelspec": {
   "display_name": "Python 3",
   "language": "python",
   "name": "python3"
  },
  "language_info": {
   "codemirror_mode": {
    "name": "ipython",
    "version": 3
   },
   "file_extension": ".py",
   "mimetype": "text/x-python",
   "name": "python",
   "nbconvert_exporter": "python",
   "pygments_lexer": "ipython3",
   "version": "3.11.2"
  }
 },
 "nbformat": 4,
 "nbformat_minor": 5
}
